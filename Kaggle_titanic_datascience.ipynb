{
  "nbformat": 4,
  "nbformat_minor": 0,
  "metadata": {
    "colab": {
      "name": "Kaggle_titanic_datascience.ipynb",
      "provenance": [],
      "authorship_tag": "ABX9TyOulTNu2olNG+JcdwThtftt",
      "include_colab_link": true
    },
    "kernelspec": {
      "name": "python3",
      "display_name": "Python 3"
    },
    "language_info": {
      "name": "python"
    }
  },
  "cells": [
    {
      "cell_type": "markdown",
      "metadata": {
        "id": "view-in-github",
        "colab_type": "text"
      },
      "source": [
        "<a href=\"https://colab.research.google.com/github/PatricRc/PatricRc/blob/main/Kaggle_titanic_datascience.ipynb\" target=\"_parent\"><img src=\"https://colab.research.google.com/assets/colab-badge.svg\" alt=\"Open In Colab\"/></a>"
      ]
    },
    {
      "cell_type": "markdown",
      "source": [
        "### Cargar datos"
      ],
      "metadata": {
        "id": "AerJ6XRtYE4V"
      }
    },
    {
      "cell_type": "code",
      "source": [
        "### Cargar datos\n",
        "import pandas as pd\n",
        "from pandas_profiling import ProfileReport"
      ],
      "metadata": {
        "id": "Zg8nAqQTYAMM"
      },
      "execution_count": 1,
      "outputs": []
    },
    {
      "cell_type": "code",
      "source": [
        "df = pd.read_csv('train.csv')"
      ],
      "metadata": {
        "id": "PWqy1TehYOJc"
      },
      "execution_count": 2,
      "outputs": []
    },
    {
      "cell_type": "code",
      "source": [
        "df.dtypes"
      ],
      "metadata": {
        "colab": {
          "base_uri": "https://localhost:8080/"
        },
        "id": "xuejixdmYev8",
        "outputId": "c94a7c09-4b23-4ee4-b2a1-1c917ba503ed"
      },
      "execution_count": 3,
      "outputs": [
        {
          "output_type": "execute_result",
          "data": {
            "text/plain": [
              "PassengerId      object\n",
              "HomePlanet       object\n",
              "CryoSleep        object\n",
              "Cabin            object\n",
              "Destination      object\n",
              "Age             float64\n",
              "VIP              object\n",
              "RoomService     float64\n",
              "FoodCourt       float64\n",
              "ShoppingMall    float64\n",
              "Spa             float64\n",
              "VRDeck          float64\n",
              "Name             object\n",
              "Transported        bool\n",
              "dtype: object"
            ]
          },
          "metadata": {},
          "execution_count": 3
        }
      ]
    },
    {
      "cell_type": "code",
      "source": [
        "df.columns"
      ],
      "metadata": {
        "colab": {
          "base_uri": "https://localhost:8080/"
        },
        "id": "hxz26UIJZZKA",
        "outputId": "99691513-2b84-4335-fe72-c34589b14b05"
      },
      "execution_count": 4,
      "outputs": [
        {
          "output_type": "execute_result",
          "data": {
            "text/plain": [
              "Index(['PassengerId', 'HomePlanet', 'CryoSleep', 'Cabin', 'Destination', 'Age',\n",
              "       'VIP', 'RoomService', 'FoodCourt', 'ShoppingMall', 'Spa', 'VRDeck',\n",
              "       'Name', 'Transported'],\n",
              "      dtype='object')"
            ]
          },
          "metadata": {},
          "execution_count": 4
        }
      ]
    },
    {
      "cell_type": "code",
      "source": [
        "df.info()"
      ],
      "metadata": {
        "id": "b2H-6GQMZanA"
      },
      "execution_count": null,
      "outputs": []
    },
    {
      "cell_type": "code",
      "source": [
        "profile = ProfileReport(df, title='Spaceship Titanic')"
      ],
      "metadata": {
        "id": "GcWSLNzoZrJ9"
      },
      "execution_count": null,
      "outputs": []
    },
    {
      "cell_type": "code",
      "source": [
        "profile.to_notebook_iframe()"
      ],
      "metadata": {
        "id": "xWcemJcXbHYM"
      },
      "execution_count": null,
      "outputs": []
    },
    {
      "cell_type": "code",
      "source": [
        "df.isnull().sum()"
      ],
      "metadata": {
        "id": "FWsdh8pceVQ_"
      },
      "execution_count": null,
      "outputs": []
    },
    {
      "cell_type": "code",
      "source": [
        "def split_cabin(x):\n",
        "  if len(str(x).split('/')) < 3:\n",
        "    return ['Missing','Missing','Missing']\n",
        "  else:\n",
        "    return str(x).split('/')"
      ],
      "metadata": {
        "id": "uB_bb2OOd39_"
      },
      "execution_count": 8,
      "outputs": []
    },
    {
      "cell_type": "code",
      "source": [
        "def preprocessing(df):\n",
        "  df['HomePlanet'].fillna('Missing', inplace=True)\n",
        "  df['TempCabin'] = df['Cabin'].apply(lambda x: split_cabin(x))\n",
        "  df['Deck'] = df['TempCabin'].apply(lambda x: x[0])\n",
        "  df['Side'] = df['TempCabin'].apply(lambda x: x[2])\n",
        "  df.drop('TempCabin', axis = 1, inplace=True)\n",
        "  df['Destination'].fillna('Missing', inplace=True)\n",
        "  df['Age'] = df['Age'].fillna(df['Age'].mean(), inplace=True)\n",
        "  df['RoomService'].fillna(0, inplace=True)\n",
        "  df['FoodCourt'].fillna(0, inplace=True)\n",
        "  df['ShoppingMall'].fillna(0, inplace=True)\n",
        "  df['Spa'].fillna(0, inplace=True)\n",
        "  df['VRDeck'].fillna(0, inplace=True)\n",
        "  df.drop('Name', axis=1,inplace=True)\n",
        "  df['CryoSleep'].fillna('Missing', inplace=True)\n",
        "  df['VIP'].fillna('Missing', inplace=True)"
      ],
      "metadata": {
        "id": "IC_qs5kPhR4V"
      },
      "execution_count": 9,
      "outputs": []
    },
    {
      "cell_type": "code",
      "source": [
        "abt = df.copy()"
      ],
      "metadata": {
        "id": "wxGnQoUykIqW"
      },
      "execution_count": 10,
      "outputs": []
    },
    {
      "cell_type": "code",
      "source": [
        "preprocessing(abt)"
      ],
      "metadata": {
        "id": "OQJRuQFfkK3K"
      },
      "execution_count": 11,
      "outputs": []
    },
    {
      "cell_type": "code",
      "source": [
        "abt.head()"
      ],
      "metadata": {
        "colab": {
          "base_uri": "https://localhost:8080/",
          "height": 357
        },
        "id": "-yrb1CNikOfu",
        "outputId": "c3dc3246-4419-438a-c067-5ea0102bda15"
      },
      "execution_count": 12,
      "outputs": [
        {
          "output_type": "execute_result",
          "data": {
            "text/plain": [
              "  PassengerId HomePlanet CryoSleep  Cabin  Destination   Age    VIP  \\\n",
              "0     0001_01     Europa     False  B/0/P  TRAPPIST-1e  None  False   \n",
              "1     0002_01      Earth     False  F/0/S  TRAPPIST-1e  None  False   \n",
              "2     0003_01     Europa     False  A/0/S  TRAPPIST-1e  None   True   \n",
              "3     0003_02     Europa     False  A/0/S  TRAPPIST-1e  None  False   \n",
              "4     0004_01      Earth     False  F/1/S  TRAPPIST-1e  None  False   \n",
              "\n",
              "   RoomService  FoodCourt  ShoppingMall     Spa  VRDeck  Transported Deck Side  \n",
              "0          0.0        0.0           0.0     0.0     0.0        False    B    P  \n",
              "1        109.0        9.0          25.0   549.0    44.0         True    F    S  \n",
              "2         43.0     3576.0           0.0  6715.0    49.0        False    A    S  \n",
              "3          0.0     1283.0         371.0  3329.0   193.0        False    A    S  \n",
              "4        303.0       70.0         151.0   565.0     2.0         True    F    S  "
            ],
            "text/html": [
              "\n",
              "  <div id=\"df-52e5e0f7-bc24-4816-8fc8-3d37c39794a7\">\n",
              "    <div class=\"colab-df-container\">\n",
              "      <div>\n",
              "<style scoped>\n",
              "    .dataframe tbody tr th:only-of-type {\n",
              "        vertical-align: middle;\n",
              "    }\n",
              "\n",
              "    .dataframe tbody tr th {\n",
              "        vertical-align: top;\n",
              "    }\n",
              "\n",
              "    .dataframe thead th {\n",
              "        text-align: right;\n",
              "    }\n",
              "</style>\n",
              "<table border=\"1\" class=\"dataframe\">\n",
              "  <thead>\n",
              "    <tr style=\"text-align: right;\">\n",
              "      <th></th>\n",
              "      <th>PassengerId</th>\n",
              "      <th>HomePlanet</th>\n",
              "      <th>CryoSleep</th>\n",
              "      <th>Cabin</th>\n",
              "      <th>Destination</th>\n",
              "      <th>Age</th>\n",
              "      <th>VIP</th>\n",
              "      <th>RoomService</th>\n",
              "      <th>FoodCourt</th>\n",
              "      <th>ShoppingMall</th>\n",
              "      <th>Spa</th>\n",
              "      <th>VRDeck</th>\n",
              "      <th>Transported</th>\n",
              "      <th>Deck</th>\n",
              "      <th>Side</th>\n",
              "    </tr>\n",
              "  </thead>\n",
              "  <tbody>\n",
              "    <tr>\n",
              "      <th>0</th>\n",
              "      <td>0001_01</td>\n",
              "      <td>Europa</td>\n",
              "      <td>False</td>\n",
              "      <td>B/0/P</td>\n",
              "      <td>TRAPPIST-1e</td>\n",
              "      <td>None</td>\n",
              "      <td>False</td>\n",
              "      <td>0.0</td>\n",
              "      <td>0.0</td>\n",
              "      <td>0.0</td>\n",
              "      <td>0.0</td>\n",
              "      <td>0.0</td>\n",
              "      <td>False</td>\n",
              "      <td>B</td>\n",
              "      <td>P</td>\n",
              "    </tr>\n",
              "    <tr>\n",
              "      <th>1</th>\n",
              "      <td>0002_01</td>\n",
              "      <td>Earth</td>\n",
              "      <td>False</td>\n",
              "      <td>F/0/S</td>\n",
              "      <td>TRAPPIST-1e</td>\n",
              "      <td>None</td>\n",
              "      <td>False</td>\n",
              "      <td>109.0</td>\n",
              "      <td>9.0</td>\n",
              "      <td>25.0</td>\n",
              "      <td>549.0</td>\n",
              "      <td>44.0</td>\n",
              "      <td>True</td>\n",
              "      <td>F</td>\n",
              "      <td>S</td>\n",
              "    </tr>\n",
              "    <tr>\n",
              "      <th>2</th>\n",
              "      <td>0003_01</td>\n",
              "      <td>Europa</td>\n",
              "      <td>False</td>\n",
              "      <td>A/0/S</td>\n",
              "      <td>TRAPPIST-1e</td>\n",
              "      <td>None</td>\n",
              "      <td>True</td>\n",
              "      <td>43.0</td>\n",
              "      <td>3576.0</td>\n",
              "      <td>0.0</td>\n",
              "      <td>6715.0</td>\n",
              "      <td>49.0</td>\n",
              "      <td>False</td>\n",
              "      <td>A</td>\n",
              "      <td>S</td>\n",
              "    </tr>\n",
              "    <tr>\n",
              "      <th>3</th>\n",
              "      <td>0003_02</td>\n",
              "      <td>Europa</td>\n",
              "      <td>False</td>\n",
              "      <td>A/0/S</td>\n",
              "      <td>TRAPPIST-1e</td>\n",
              "      <td>None</td>\n",
              "      <td>False</td>\n",
              "      <td>0.0</td>\n",
              "      <td>1283.0</td>\n",
              "      <td>371.0</td>\n",
              "      <td>3329.0</td>\n",
              "      <td>193.0</td>\n",
              "      <td>False</td>\n",
              "      <td>A</td>\n",
              "      <td>S</td>\n",
              "    </tr>\n",
              "    <tr>\n",
              "      <th>4</th>\n",
              "      <td>0004_01</td>\n",
              "      <td>Earth</td>\n",
              "      <td>False</td>\n",
              "      <td>F/1/S</td>\n",
              "      <td>TRAPPIST-1e</td>\n",
              "      <td>None</td>\n",
              "      <td>False</td>\n",
              "      <td>303.0</td>\n",
              "      <td>70.0</td>\n",
              "      <td>151.0</td>\n",
              "      <td>565.0</td>\n",
              "      <td>2.0</td>\n",
              "      <td>True</td>\n",
              "      <td>F</td>\n",
              "      <td>S</td>\n",
              "    </tr>\n",
              "  </tbody>\n",
              "</table>\n",
              "</div>\n",
              "      <button class=\"colab-df-convert\" onclick=\"convertToInteractive('df-52e5e0f7-bc24-4816-8fc8-3d37c39794a7')\"\n",
              "              title=\"Convert this dataframe to an interactive table.\"\n",
              "              style=\"display:none;\">\n",
              "        \n",
              "  <svg xmlns=\"http://www.w3.org/2000/svg\" height=\"24px\"viewBox=\"0 0 24 24\"\n",
              "       width=\"24px\">\n",
              "    <path d=\"M0 0h24v24H0V0z\" fill=\"none\"/>\n",
              "    <path d=\"M18.56 5.44l.94 2.06.94-2.06 2.06-.94-2.06-.94-.94-2.06-.94 2.06-2.06.94zm-11 1L8.5 8.5l.94-2.06 2.06-.94-2.06-.94L8.5 2.5l-.94 2.06-2.06.94zm10 10l.94 2.06.94-2.06 2.06-.94-2.06-.94-.94-2.06-.94 2.06-2.06.94z\"/><path d=\"M17.41 7.96l-1.37-1.37c-.4-.4-.92-.59-1.43-.59-.52 0-1.04.2-1.43.59L10.3 9.45l-7.72 7.72c-.78.78-.78 2.05 0 2.83L4 21.41c.39.39.9.59 1.41.59.51 0 1.02-.2 1.41-.59l7.78-7.78 2.81-2.81c.8-.78.8-2.07 0-2.86zM5.41 20L4 18.59l7.72-7.72 1.47 1.35L5.41 20z\"/>\n",
              "  </svg>\n",
              "      </button>\n",
              "      \n",
              "  <style>\n",
              "    .colab-df-container {\n",
              "      display:flex;\n",
              "      flex-wrap:wrap;\n",
              "      gap: 12px;\n",
              "    }\n",
              "\n",
              "    .colab-df-convert {\n",
              "      background-color: #E8F0FE;\n",
              "      border: none;\n",
              "      border-radius: 50%;\n",
              "      cursor: pointer;\n",
              "      display: none;\n",
              "      fill: #1967D2;\n",
              "      height: 32px;\n",
              "      padding: 0 0 0 0;\n",
              "      width: 32px;\n",
              "    }\n",
              "\n",
              "    .colab-df-convert:hover {\n",
              "      background-color: #E2EBFA;\n",
              "      box-shadow: 0px 1px 2px rgba(60, 64, 67, 0.3), 0px 1px 3px 1px rgba(60, 64, 67, 0.15);\n",
              "      fill: #174EA6;\n",
              "    }\n",
              "\n",
              "    [theme=dark] .colab-df-convert {\n",
              "      background-color: #3B4455;\n",
              "      fill: #D2E3FC;\n",
              "    }\n",
              "\n",
              "    [theme=dark] .colab-df-convert:hover {\n",
              "      background-color: #434B5C;\n",
              "      box-shadow: 0px 1px 3px 1px rgba(0, 0, 0, 0.15);\n",
              "      filter: drop-shadow(0px 1px 2px rgba(0, 0, 0, 0.3));\n",
              "      fill: #FFFFFF;\n",
              "    }\n",
              "  </style>\n",
              "\n",
              "      <script>\n",
              "        const buttonEl =\n",
              "          document.querySelector('#df-52e5e0f7-bc24-4816-8fc8-3d37c39794a7 button.colab-df-convert');\n",
              "        buttonEl.style.display =\n",
              "          google.colab.kernel.accessAllowed ? 'block' : 'none';\n",
              "\n",
              "        async function convertToInteractive(key) {\n",
              "          const element = document.querySelector('#df-52e5e0f7-bc24-4816-8fc8-3d37c39794a7');\n",
              "          const dataTable =\n",
              "            await google.colab.kernel.invokeFunction('convertToInteractive',\n",
              "                                                     [key], {});\n",
              "          if (!dataTable) return;\n",
              "\n",
              "          const docLinkHtml = 'Like what you see? Visit the ' +\n",
              "            '<a target=\"_blank\" href=https://colab.research.google.com/notebooks/data_table.ipynb>data table notebook</a>'\n",
              "            + ' to learn more about interactive tables.';\n",
              "          element.innerHTML = '';\n",
              "          dataTable['output_type'] = 'display_data';\n",
              "          await google.colab.output.renderOutput(dataTable, element);\n",
              "          const docLink = document.createElement('div');\n",
              "          docLink.innerHTML = docLinkHtml;\n",
              "          element.appendChild(docLink);\n",
              "        }\n",
              "      </script>\n",
              "    </div>\n",
              "  </div>\n",
              "  "
            ]
          },
          "metadata": {},
          "execution_count": 12
        }
      ]
    },
    {
      "cell_type": "code",
      "source": [
        "abt.isnull().sum()"
      ],
      "metadata": {
        "colab": {
          "base_uri": "https://localhost:8080/"
        },
        "id": "u9VF406L_e-q",
        "outputId": "884b8524-1756-44be-b35b-ddbf04d1b32c"
      },
      "execution_count": 13,
      "outputs": [
        {
          "output_type": "execute_result",
          "data": {
            "text/plain": [
              "PassengerId        0\n",
              "HomePlanet         0\n",
              "CryoSleep          0\n",
              "Cabin            199\n",
              "Destination        0\n",
              "Age             8693\n",
              "VIP                0\n",
              "RoomService        0\n",
              "FoodCourt          0\n",
              "ShoppingMall       0\n",
              "Spa                0\n",
              "VRDeck             0\n",
              "Transported        0\n",
              "Deck               0\n",
              "Side               0\n",
              "dtype: int64"
            ]
          },
          "metadata": {},
          "execution_count": 13
        }
      ]
    },
    {
      "cell_type": "markdown",
      "source": [
        "\n",
        "\n",
        "1.   Seleccinar base X, y\n",
        "2.   One Hot encoding\n",
        "3.   Train, holdout split\n",
        "4.   Train on bunch of algos\n",
        "\n"
      ],
      "metadata": {
        "id": "UFcq5cNiDWre"
      }
    },
    {
      "cell_type": "code",
      "source": [
        "from sklearn.model_selection import train_test_split\n",
        "from sklearn.pipeline import make_pipeline\n",
        "from sklearn.preprocessing import StandardScaler\n",
        "import seaborn as sns"
      ],
      "metadata": {
        "id": "LFROBIOPBXFQ"
      },
      "execution_count": 14,
      "outputs": []
    },
    {
      "cell_type": "code",
      "source": [
        "X = abt.drop(['Transported','PassengerId'], axis=1)\n",
        "X = pd.get_dummies(X)\n",
        "y = abt['Transported']"
      ],
      "metadata": {
        "id": "_OqLh0ixBoDd"
      },
      "execution_count": 15,
      "outputs": []
    },
    {
      "cell_type": "code",
      "source": [
        "x_train, x_test, y_train, y_test = train_test_split(X, y, test_size=0.3, random_state=1234) "
      ],
      "metadata": {
        "id": "aTUXpNtiBw4z"
      },
      "execution_count": 16,
      "outputs": []
    },
    {
      "cell_type": "code",
      "source": [
        "sns.countplot(x='Transported', data=df)"
      ],
      "metadata": {
        "colab": {
          "base_uri": "https://localhost:8080/",
          "height": 525
        },
        "id": "_QQNP_LbGm2C",
        "outputId": "841f4b35-90b6-4ca2-94a6-c7ab75745097"
      },
      "execution_count": 17,
      "outputs": [
        {
          "output_type": "execute_result",
          "data": {
            "text/plain": [
              "<matplotlib.axes._subplots.AxesSubplot at 0x7f9986dc3fd0>"
            ]
          },
          "metadata": {},
          "execution_count": 17
        },
        {
          "output_type": "display_data",
          "data": {
            "text/plain": [
              "<Figure size 800x550 with 1 Axes>"
            ],
            "image/png": "[encoded data removed]"
          },
          "metadata": {}
        }
      ]
    },
    {
      "cell_type": "code",
      "source": [
        "from sklearn.ensemble import RandomForestClassifier, GradientBoostingClassifier\n",
        "from sklearn.model_selection import GridSearchCV"
      ],
      "metadata": {
        "id": "D1zYBVW0EeA-"
      },
      "execution_count": 18,
      "outputs": []
    },
    {
      "cell_type": "code",
      "source": [
        "pipelines = {\n",
        "    'rf': make_pipeline(StandardScaler(),RandomForestClassifier(random_state=1234)),\n",
        "    'gb': make_pipeline(StandardScaler(),GradientBoostingClassifier(random_state=1234))\n",
        "}"
      ],
      "metadata": {
        "id": "YNPabfkzDmb6"
      },
      "execution_count": 19,
      "outputs": []
    },
    {
      "cell_type": "code",
      "source": [
        "GradientBoostingClassifier().get_params()"
      ],
      "metadata": {
        "id": "mGEJpHp9Fr7Y"
      },
      "execution_count": null,
      "outputs": []
    },
    {
      "cell_type": "code",
      "source": [
        "grid = {\n",
        "    'rf': {\n",
        "        'randomforestclassifier__n_estimators':[100,200,300]\n",
        "    },\n",
        "    'gb': {\n",
        "        'gradientboostingclassifier__n_estimators':[100,200,300]\n",
        "    }\n",
        "}"
      ],
      "metadata": {
        "id": "hZZmnouQEjxz"
      },
      "execution_count": 21,
      "outputs": []
    },
    {
      "cell_type": "code",
      "source": [
        "fit_models = {}\n",
        "for algo, pipeline in pipelines.items():\n",
        "  print(f'Training the {algo} model.')\n",
        "  model = GridSearchCV(pipeline, grid[algo], cv=10)\n",
        "  model.fit(x_train, y_train)\n",
        "  fit_models[algo] = model"
      ],
      "metadata": {
        "colab": {
          "base_uri": "https://localhost:8080/"
        },
        "id": "LjJOBP3jFWw1",
        "outputId": "fe354ea0-aaca-438c-d2aa-202391e7246c"
      },
      "execution_count": 24,
      "outputs": [
        {
          "output_type": "stream",
          "name": "stdout",
          "text": [
            "Training the rf model.\n",
            "Training the gb model.\n"
          ]
        }
      ]
    },
    {
      "cell_type": "code",
      "source": [
        "from sklearn.metrics import accuracy_score, precision_score, recall_score"
      ],
      "metadata": {
        "id": "pmJHhTvsHUaR"
      },
      "execution_count": 22,
      "outputs": []
    },
    {
      "cell_type": "code",
      "source": [
        "for algo, model  in fit_models.items():\n",
        "  yhat = model.predict(x_test)\n",
        "  accuracy = accuracy_score(y_test, yhat)\n",
        "  precision = precision_score(y_test, yhat)\n",
        "  recall = recall_score(y_test, yhat)\n",
        "  print(f'Metrics for {algo}: accuracy- {accuracy}, recall- {recall}, precision- {precision}')"
      ],
      "metadata": {
        "colab": {
          "base_uri": "https://localhost:8080/"
        },
        "id": "OS-E379oHgzU",
        "outputId": "2cf52c3b-1a8e-4cc5-a312-159d8f9ef956"
      },
      "execution_count": 25,
      "outputs": [
        {
          "output_type": "stream",
          "name": "stdout",
          "text": [
            "Metrics for rf: accuracy- 0.7967791411042945, recall- 0.779320987654321, precision- 0.8054226475279107\n",
            "Metrics for gb: accuracy- 0.7975460122699386, recall- 0.8433641975308642, precision- 0.7708039492242595\n"
          ]
        }
      ]
    },
    {
      "cell_type": "code",
      "source": [
        "import pickle"
      ],
      "metadata": {
        "id": "LLPjYYr-JevK"
      },
      "execution_count": 23,
      "outputs": []
    },
    {
      "cell_type": "code",
      "source": [
        "with open('gradientboosted.pkl', 'wb') as f:\n",
        "  pickle.dump(fit_models['gb'], f)"
      ],
      "metadata": {
        "id": "xdGVIUvbJhSQ"
      },
      "execution_count": 26,
      "outputs": []
    },
    {
      "cell_type": "code",
      "source": [
        "with open('gradientboosted.pkl', 'rb') as f:\n",
        "  reloaded_model = pickle.load(f)"
      ],
      "metadata": {
        "id": "XstRav5MJ5P0"
      },
      "execution_count": 27,
      "outputs": []
    },
    {
      "cell_type": "code",
      "source": [
        "test_df = pd.read_csv('test.csv')\n",
        "abt_test = test_df.copy()\n",
        "preprocessing(abt_test)\n",
        "abt_test = pd.get_dummies(abt_test.drop('PassengerId', axis=1))"
      ],
      "metadata": {
        "id": "9olOnLtKMAG3"
      },
      "execution_count": 29,
      "outputs": []
    },
    {
      "cell_type": "code",
      "source": [
        "yhat_test = fit_models['gb'].predict(abt_test)"
      ],
      "metadata": {
        "id": "fYJVlT9WMXID"
      },
      "execution_count": null,
      "outputs": []
    },
    {
      "cell_type": "code",
      "source": [
        "submission = pd.DataFrame([test_df['PassengerId'], yhat_test]).T"
      ],
      "metadata": {
        "id": "Jafu3PCeMbVz"
      },
      "execution_count": null,
      "outputs": []
    },
    {
      "cell_type": "code",
      "source": [
        "submission.to_csv('kaggle_submission.csv', index=False)"
      ],
      "metadata": {
        "id": "OfkdP5H-NWPY"
      },
      "execution_count": null,
      "outputs": []
    },
    {
      "cell_type": "code",
      "source": [
        "!kaggle competitions submit -c spaceship-titanic -m 'initial gb model' -f 'kaggle_submissions.csv'"
      ],
      "metadata": {
        "id": "t6rQbAO8NjxP"
      },
      "execution_count": null,
      "outputs": []
    }
  ]
}